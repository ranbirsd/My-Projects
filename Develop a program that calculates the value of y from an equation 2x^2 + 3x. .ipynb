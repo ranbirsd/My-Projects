{
 "cells": [
  {
   "cell_type": "code",
   "execution_count": 1,
   "id": "8f9537dd",
   "metadata": {},
   "outputs": [
    {
     "name": "stdout",
     "output_type": "stream",
     "text": [
      "x = 4.778336382160312\n",
      "x = 8.52698767585589\n",
      "x = 31.06292976341725\n"
     ]
    }
   ],
   "source": [
    "import time\n",
    "\n",
    "def solve_equation(y, tolerance=0.005, max_iter=200, max_time=20):\n",
    "    start_time = time.time()\n",
    "    x = 0\n",
    "    error = float(\"inf\")\n",
    "    iteration = 0\n",
    "    while error > tolerance and iteration < max_iter and time.time() - start_time < max_time:\n",
    "        x_new = x - (2 * x**2 + 3 * x - y) / (4 * x + 3)\n",
    "        error = abs(x_new - x)\n",
    "        x = x_new\n",
    "        iteration += 1\n",
    "    return x\n",
    "\n",
    "print(\"x =\", solve_equation(60))\n",
    "print(\"x =\", solve_equation(171))\n",
    "print(\"x =\", solve_equation(2023))\n"
   ]
  },
  {
   "cell_type": "code",
   "execution_count": null,
   "id": "a212863c",
   "metadata": {},
   "outputs": [],
   "source": []
  }
 ],
 "metadata": {
  "kernelspec": {
   "display_name": "Python 3 (ipykernel)",
   "language": "python",
   "name": "python3"
  },
  "language_info": {
   "codemirror_mode": {
    "name": "ipython",
    "version": 3
   },
   "file_extension": ".py",
   "mimetype": "text/x-python",
   "name": "python",
   "nbconvert_exporter": "python",
   "pygments_lexer": "ipython3",
   "version": "3.9.12"
  }
 },
 "nbformat": 4,
 "nbformat_minor": 5
}

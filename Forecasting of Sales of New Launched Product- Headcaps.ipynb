{
 "cells": [
  {
   "cell_type": "markdown",
   "id": "6c226383",
   "metadata": {},
   "source": [
    "Forecasting sales of a new product is a difficult task, as there is no historical data available to make predictions\n",
    "\n",
    "One common method is to gather market research data and use that information to make educated guesses about future sales. For example, we could survey potential customers to have data about their interest in the product and how likely they are to purchase it. We could also gather data on similar products to see how well they have performed in the past and use that information to make projections for our product.\n",
    "\n",
    "Here's a simple example of how we could use market research data to forecast sales of the new product \"headcaps\":"
   ]
  },
  {
   "cell_type": "code",
   "execution_count": 1,
   "id": "f66ea751",
   "metadata": {},
   "outputs": [],
   "source": [
    "import numpy as np\n",
    "\n",
    "# Market research data\n",
    "potential_customers = 1000\n",
    "likely_purchasers = 800\n",
    "price = 20\n",
    "\n"
   ]
  },
  {
   "cell_type": "code",
   "execution_count": 2,
   "id": "4a28c8bd",
   "metadata": {},
   "outputs": [],
   "source": [
    "# Calculate expected sales\n",
    "expected_sales = likely_purchasers * price\n",
    "\n",
    "# Calculate a range for expected sales using standard deviation\n",
    "standard_deviation = np.sqrt(potential_customers * price * (1 - price / potential_customers))\n",
    "upper_bound = expected_sales + 1.96 * standard_deviation\n",
    "lower_bound = expected_sales - 1.96 * standard_deviation\n",
    "\n"
   ]
  },
  {
   "cell_type": "code",
   "execution_count": 3,
   "id": "65ce4031",
   "metadata": {
    "scrolled": true
   },
   "outputs": [
    {
     "name": "stdout",
     "output_type": "stream",
     "text": [
      "Sales forecast for January 2023: $ 2666.6666666666665\n",
      "Range for January 2023: $ 2620.9333333333334 to $ 2712.4\n",
      "Sales forecast for February 2023: $ 2666.6666666666665\n",
      "Range for February 2023: $ 2620.9333333333334 to $ 2712.4\n",
      "Sales forecast for March 2023: $ 2666.6666666666665\n",
      "Range for March 2023: $ 2620.9333333333334 to $ 2712.4\n",
      "Sales forecast for April 2023: $ 2666.6666666666665\n",
      "Range for April 2023: $ 2620.9333333333334 to $ 2712.4\n",
      "Sales forecast for May 2023: $ 2666.6666666666665\n",
      "Range for May 2023: $ 2620.9333333333334 to $ 2712.4\n",
      "Sales forecast for June 2023: $ 2666.6666666666665\n",
      "Range for June 2023: $ 2620.9333333333334 to $ 2712.4\n"
     ]
    }
   ],
   "source": [
    "# Divide expected sales by 6 to get individual sales for each month\n",
    "monthly_expected_sales = expected_sales / 6\n",
    "monthly_upper_bound = upper_bound / 6\n",
    "monthly_lower_bound = lower_bound / 6\n",
    "\n",
    "# Print individual sales forecasts for each month\n",
    "print(\"Sales forecast for January 2023: $\", monthly_expected_sales)\n",
    "print(\"Range for January 2023: $\", monthly_lower_bound, \"to $\", monthly_upper_bound)\n",
    "print(\"Sales forecast for February 2023: $\", monthly_expected_sales)\n",
    "print(\"Range for February 2023: $\", monthly_lower_bound, \"to $\", monthly_upper_bound)\n",
    "print(\"Sales forecast for March 2023: $\", monthly_expected_sales)\n",
    "print(\"Range for March 2023: $\", monthly_lower_bound, \"to $\", monthly_upper_bound)\n",
    "print(\"Sales forecast for April 2023: $\", monthly_expected_sales)\n",
    "print(\"Range for April 2023: $\", monthly_lower_bound, \"to $\", monthly_upper_bound)\n",
    "print(\"Sales forecast for May 2023: $\", monthly_expected_sales)\n",
    "print(\"Range for May 2023: $\", monthly_lower_bound, \"to $\", monthly_upper_bound)\n",
    "print(\"Sales forecast for June 2023: $\", monthly_expected_sales)\n",
    "print(\"Range for June 2023: $\", monthly_lower_bound, \"to $\", monthly_upper_bound)\n"
   ]
  },
  {
   "cell_type": "code",
   "execution_count": null,
   "id": "a5997468",
   "metadata": {},
   "outputs": [],
   "source": []
  }
 ],
 "metadata": {
  "kernelspec": {
   "display_name": "Python 3 (ipykernel)",
   "language": "python",
   "name": "python3"
  },
  "language_info": {
   "codemirror_mode": {
    "name": "ipython",
    "version": 3
   },
   "file_extension": ".py",
   "mimetype": "text/x-python",
   "name": "python",
   "nbconvert_exporter": "python",
   "pygments_lexer": "ipython3",
   "version": "3.9.12"
  }
 },
 "nbformat": 4,
 "nbformat_minor": 5
}
